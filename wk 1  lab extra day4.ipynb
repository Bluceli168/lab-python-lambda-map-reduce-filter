{
 "cells": [
  {
   "cell_type": "code",
   "execution_count": 42,
   "id": "d9ff9c89-8d4d-48ce-9fb9-1c107c0fb83c",
   "metadata": {},
   "outputs": [
    {
     "name": "stdout",
     "output_type": "stream",
     "text": [
      "credits: [(-1200, 'debit'), (-100, 'debit'), (-250, 'debit'), (-300, 'debit'), (-850, 'debit')]\n",
      "debits: [(-1200, 'debit'), (-100, 'debit'), (-250, 'debit'), (-300, 'debit'), (-850, 'debit')]\n",
      "sorted_credits: [(-100, 'debit'), (-250, 'debit'), (-300, 'debit'), (-850, 'debit'), (-1200, 'debit')]\n",
      "[105.0, 52.5, -26.25, 1050.0, -10.5]\n",
      "[{'balance': 1020.0, 'interest_rate': 0.02}, {'balance': 2020.0, 'interest_rate': 0.01}, {'balance': 515.0, 'interest_rate': 0.03}]\n",
      "---------------------------------\n",
      "[650, 1600, 275]\n"
     ]
    }
   ],
   "source": [
    "# Challenge 1:\n",
    "transactions = [(-1200, 'debit'), (2500, 'credit'), (-100, 'debit'), (850, 'credit'), (-250, 'debit'), (1500, 'credit'), (-300, 'debit'), (5000, 'credit'), (-850, 'debit'), (1000, 'credit')]\n",
    "\n",
    "credits =[transaction for transaction in transactions if transaction[1]=='debit']\n",
    "debits = list(filter(lambda x:x[1] =='debit',transactions))\n",
    "\n",
    "print(\"credits:\",credits)\n",
    "print(\"debits:\",debits)\n",
    "\n",
    "sorted_debits=sorted(debits,key =lambda t:t[0],reverse=True)\n",
    "print(\"sorted_credits:\",sorted_debits)\n",
    "\n",
    "sort_descending = lambda t1,t2:t1[0]>t2[0]\n",
    "\n",
    "# Challenge 2:\n",
    "balances = [100, 50, -25, 1000, -10]\n",
    "interest_rate =0.05\n",
    "new_balance = list(map(lambda balance:balance + balance*interest_rate,balances))\n",
    "print(f\"{new_balance}\")\n",
    "\n",
    "accounts = [\n",
    "    {'balance': 1000, 'interest_rate': 0.02},\n",
    "    {'balance': 2000, 'interest_rate': 0.01},\n",
    "    {'balance': 500, 'interest_rate': 0.03},\n",
    "]\n",
    "\n",
    "new_accounts = list(map(lambda account:{'balance':account['balance'] + account['balance'] * account['interest_rate'],\n",
    "                                        'interest_rate':account['interest_rate']},accounts))\n",
    "print(f\"{new_accounts}\")\n",
    "\n",
    "## Challenge 3:\n",
    "# Exercise 2:\n",
    "print(f\"---------------------------------\")\n",
    "def calculate_balance(account):\n",
    "    total_withdrawals = sum(account['withdrawals'])\n",
    "    remaining_balance = account['balance']-total_withdrawals\n",
    "    return remaining_balance\n",
    "\n",
    "accounts = [\n",
    "    {'balance': 1000, 'withdrawals': [100, 50, 200]},\n",
    "    {'balance': 2000, 'withdrawals': [300, 100]},\n",
    "    {'balance': 500, 'withdrawals': [50, 100, 75]},\n",
    "]\n",
    "\n",
    "remaining_balance = list(map(calculate_balance,accounts))\n",
    "print(f\"{remaining_balance}\")"
   ]
  },
  {
   "cell_type": "code",
   "execution_count": null,
   "id": "1c942ca0-40ab-4474-8f0c-7403e07c5eac",
   "metadata": {},
   "outputs": [],
   "source": []
  }
 ],
 "metadata": {
  "kernelspec": {
   "display_name": "Python 3 (ipykernel)",
   "language": "python",
   "name": "python3"
  },
  "language_info": {
   "codemirror_mode": {
    "name": "ipython",
    "version": 3
   },
   "file_extension": ".py",
   "mimetype": "text/x-python",
   "name": "python",
   "nbconvert_exporter": "python",
   "pygments_lexer": "ipython3",
   "version": "3.12.4"
  }
 },
 "nbformat": 4,
 "nbformat_minor": 5
}
